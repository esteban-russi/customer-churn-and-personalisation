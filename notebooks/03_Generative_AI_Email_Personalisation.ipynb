{
 "cells": [
  {
   "cell_type": "markdown",
   "id": "a11d1bc8",
   "metadata": {},
   "source": [
    "# GenAI: Email Personalisation"
   ]
  },
  {
   "cell_type": "code",
   "execution_count": 2,
   "id": "2784b6ac",
   "metadata": {},
   "outputs": [],
   "source": [
    "path = 'C:\\\\Users\\\\esteb\\\\Documents\\\\GitHub\\\\customer-churn-and-personalisation\\\\data\\\\loyalty_profiles.csv'\n",
    "llm_model = 'gemini-1.5-pro-latest'\n",
    "high_risk_prob = 0.5"
   ]
  },
  {
   "cell_type": "code",
   "execution_count": 3,
   "id": "79d76428",
   "metadata": {},
   "outputs": [],
   "source": [
    "import pandas as pd\n",
    "import numpy as np\n",
    "import google.generativeai as genai\n",
    "import os\n",
    "from dotenv import load_dotenv\n",
    "from IPython.display import display, Markdown\n",
    "from email.message import EmailMessage"
   ]
  },
  {
   "cell_type": "code",
   "execution_count": 4,
   "id": "7a9a276d",
   "metadata": {},
   "outputs": [
    {
     "name": "stdout",
     "output_type": "stream",
     "text": [
      "Environment variables loaded successfully.\n",
      "Loyalty profiles loaded successfully.\n",
      "Found 82 high-risk customers to target.\n"
     ]
    }
   ],
   "source": [
    "load_dotenv()\n",
    "\n",
    "try:\n",
    "    SENDER_EMAIL = os.environ[\"EMAIL_SENDER\"]\n",
    "    SENDER_PASSWORD = os.environ[\"EMAIL_PASSWORD\"]\n",
    "    genai.configure(api_key=os.environ[\"GEMINI_API_KEY\"])\n",
    "    print(\"Environment variables loaded successfully.\")\n",
    "except KeyError as e:\n",
    "    print(f\"Error: Environment variable {e} not found.\")\n",
    "    print(\"Please ensure you have a .env file with EMAIL_SENDER, EMAIL_PASSWORD, and GEMINI_API_KEY.\")\n",
    "    exit()\n",
    "\n",
    "\n",
    "# --- Load the Customer Profiles ---\n",
    "try:\n",
    "    profiles_df = pd.read_csv(path)\n",
    "    print(\"Loyalty profiles loaded successfully.\")\n",
    "    # Filter for only the high-risk customers we want to target\n",
    "    high_risk_customers = profiles_df[profiles_df['churn_probability'] > high_risk_prob].copy()\n",
    "    print(f\"Found {len(high_risk_customers)} high-risk customers to target.\")\n",
    "except FileNotFoundError:\n",
    "    print(\"Error: loyalty_profiles.csv not found. Please ensure the file is in the correct directory.\")\n",
    "    high_risk_customers = pd.DataFrame() # Create an empty df to avoid errors later"
   ]
  },
  {
   "cell_type": "code",
   "execution_count": null,
   "id": "4e800312",
   "metadata": {},
   "outputs": [],
   "source": [
    "MASTER_PROMPT = \"\"\"\n",
    "You are an expert marketing copywriter for Vodafone, a top-tier telecommunications company.\n",
    "Your task is to write a personalized, persuasive, and friendly email to a valued customer who our data suggests might be at risk of leaving. The goal is to proactively address their potential concerns and retain them with a relevant offer, making them feel appreciated and understood.\n",
    "\n",
    "### STRICT GUIDELINES TO FOLLOW ###\n",
    "\n",
    "**1. Tone Attributes:**\n",
    "   - **Friendly and Approachable:** Use warm, conversational language. Avoid technical jargon.\n",
    "   - **Clear and Concise:** Messages must be straightforward and easy to digest. Use short sentences.\n",
    "   - **Positive and Reassuring:** Highlight benefits and positive outcomes. Address concerns empathetically.\n",
    "   - **Professional and Trustworthy:** Maintain a respectful tone. Ensure information is reliable.\n",
    "\n",
    "**2. Email Structure:**\n",
    "   - **1. Subject Line:** Must be friendly, enticing, and personalized. (e.g., \"Exclusive Benefits Await You, {customer_name}!\")\n",
    "   - **2. Greeting:** Must be \"Hi {customer_name},\"\n",
    "   - **3. Introduction:** Briefly and warmly explain the purpose of the email.\n",
    "   - **4. Body:** Highlight the special, relevant offer. Use bullet points for key information.\n",
    "   - **5. Call to Action (CTA):** Must be clear and compelling. (e.g., \"Click here to explore your exclusive benefits.\")\n",
    "   - **6. Closing:** Must be warm and appreciative.\n",
    "   - **7. Signature:** Must be \"Best regards,\\nThe Vodafone Customer Care Team\"\n",
    "\n",
    "**3. Constraints:**\n",
    "   - **DO NOT** mention the words \"churn,\" \"risk,\" \"leaving,\" \"canceling,\" or \"unhappy.\" The tone must be entirely positive and proactive.\n",
    "   - **DO NOT** invent specific prices or discount percentages unless they are provided in the {suggested_offer}.\n",
    "   - **DO NOT** make up features or services that don't exist.\n",
    "\n",
    "### CUSTOMER DATA & TASK ###\n",
    "\n",
    "You will write an email for the following customer:\n",
    "\n",
    "- **Customer Name:** {customer_name}\n",
    "- **Customer Since:** {tenure_months} months\n",
    "- **Loyalty Profile:** {loyalty_profile}\n",
    "- **Primary Churn Driver (Internal Use Only, do not mention directly):** {primary_churn_driver}\n",
    "- **Suggested Offer to Weave into the Email:** {suggested_offer}\n",
    "\n",
    "Now, please write the email based on all the rules and data provided.\n",
    "\"\"\""
   ]
  },
  {
   "cell_type": "code",
   "execution_count": 6,
   "id": "ad4a4382",
   "metadata": {},
   "outputs": [],
   "source": [
    "def get_prompt_inputs(customer_row):\n",
    "    \"\"\"Translates a customer's data profile into specific inputs for the LLM prompt.\"\"\"\n",
    "    profile = customer_row['loyalty_profile']\n",
    "    tenure = customer_row['tenure']\n",
    "    \n",
    "    suggested_offer = \"\"\n",
    "    # This is the logic layer connecting data insights to creative content\n",
    "    if profile == \"Freedom Seeker\":\n",
    "        suggested_offer = \"A special loyalty discount on their monthly bill if they switch to a 12-month plan, giving them both savings and price stability.\"\n",
    "    elif profile == \"At-Risk VIP\":\n",
    "        suggested_offer = \"A complimentary plan review with one of our experts to ensure they're on the best-value tier, plus a free month of our Premium Tech Support service as a thank you.\"\n",
    "    elif profile == \"New & Uncertain\":\n",
    "        suggested_offer = \"A welcome gift of a free 3-month trial of our Premium Online Security package to help them get the most out of their new services and stay protected.\"\n",
    "    else: # Fallback for \"General Churn Risk\"\n",
    "        suggested_offer = \"A special 'thank you' offer, giving them a complimentary speed boost on their internet for the next three months.\"\n",
    "        \n",
    "    return {\n",
    "        \"customer_name\": np.random.choice([\"Alex\", \"Jamie\", \"Katie\",\"Ashelyn\", \"Vachan\",\"Ben\"]), # Randomly select a name for Demo\n",
    "        \"tenure_months\": tenure,\n",
    "        \"loyalty_profile\": profile,\n",
    "        \"primary_churn_driver\": customer_row['primary_driver'],\n",
    "        \"suggested_offer\": suggested_offer\n",
    "    }\n",
    "\n",
    "def generate_retention_email(customer_data):\n",
    "    \"\"\"Generates a personalized retention email for a given customer.\"\"\"\n",
    "    try:\n",
    "        model = genai.GenerativeModel(llm_model)\n",
    "        prompt_inputs = get_prompt_inputs(customer_data)\n",
    "        final_prompt = MASTER_PROMPT.format(**prompt_inputs)\n",
    "        \n",
    "        response = model.generate_content(final_prompt)\n",
    "        return response.text\n",
    "    except Exception as e:\n",
    "        return f\"An error occurred while generating the email: {e}\"\n"
   ]
  },
  {
   "cell_type": "markdown",
   "id": "b4b2ae14",
   "metadata": {},
   "source": [
    "Example"
   ]
  },
  {
   "cell_type": "code",
   "execution_count": 7,
   "id": "65f3abf4",
   "metadata": {},
   "outputs": [
    {
     "name": "stdout",
     "output_type": "stream",
     "text": [
      "\n",
      "================================================================================\n",
      "GENERATING EMAIL FOR PROFILE: 'New & Uncertain' (Churn Prob: 0.57)\n",
      "================================================================================\n"
     ]
    },
    {
     "data": {
      "text/markdown": [
       "Subject: Enhancing Your Vodafone Experience, Alex!\n",
       "\n",
       "Hi Alex,\n",
       "\n",
       "We're reaching out to show our appreciation for you being a Vodafone customer for the past 8 months. We're always looking for ways to enhance your experience and want to share something special with you.\n",
       "\n",
       "As a valued customer, we'd like to offer you a welcome gift: a free 3-month trial of our Premium Online Security package.  This added layer of protection will help keep you safe online while you enjoy all that Vodafone has to offer.\n",
       "\n",
       "Here's what you'll get with our Premium Online Security package:\n",
       "\n",
       "* **Enhanced protection against viruses, malware, and phishing attempts.**\n",
       "* **Secure browsing for safer online shopping and banking.**\n",
       "* **Protection for multiple devices.**\n",
       "\n",
       "Click here to explore your exclusive benefits and activate your free 3-month trial.\n",
       "\n",
       "We appreciate your choice to connect with Vodafone. We’re committed to providing you with the best possible service.\n",
       "\n",
       "Best regards,\n",
       "The Vodafone Customer Care Team \n"
      ],
      "text/plain": [
       "<IPython.core.display.Markdown object>"
      ]
     },
     "metadata": {},
     "output_type": "display_data"
    }
   ],
   "source": [
    "number_of_examples = 1\n",
    "# We'll pick a few unique high-risk profiles to demonstrate personalization.\n",
    "if not high_risk_customers.empty:\n",
    "    customers_to_showcase = high_risk_customers.drop_duplicates(subset=['loyalty_profile']).sample(n=number_of_examples)\n",
    "\n",
    "    for index, customer in customers_to_showcase.iterrows():\n",
    "        print(\"\\n\" + \"=\"*80)\n",
    "        print(f\"GENERATING EMAIL FOR PROFILE: '{customer['loyalty_profile']}' (Churn Prob: {customer['churn_probability']:.2f})\")\n",
    "        print(\"=\"*80)\n",
    "        \n",
    "        generated_email = generate_retention_email(customer)\n",
    "        display(Markdown(generated_email))\n",
    "\n",
    "else:\n",
    "    print(\"\\nNo high-risk customers to generate emails for.\")"
   ]
  }
 ],
 "metadata": {
  "kernelspec": {
   "display_name": "base",
   "language": "python",
   "name": "python3"
  },
  "language_info": {
   "codemirror_mode": {
    "name": "ipython",
    "version": 3
   },
   "file_extension": ".py",
   "mimetype": "text/x-python",
   "name": "python",
   "nbconvert_exporter": "python",
   "pygments_lexer": "ipython3",
   "version": "3.12.3"
  }
 },
 "nbformat": 4,
 "nbformat_minor": 5
}
