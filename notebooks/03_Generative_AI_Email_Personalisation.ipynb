{
 "cells": [
  {
   "cell_type": "markdown",
   "id": "a11d1bc8",
   "metadata": {},
   "source": [
    "# GenAI: Email Personalisation"
   ]
  },
  {
   "cell_type": "markdown",
   "id": "c80f08e3",
   "metadata": {},
   "source": [
    "### 1. Loading and Initial Setup"
   ]
  },
  {
   "cell_type": "code",
   "execution_count": 13,
   "id": "2784b6ac",
   "metadata": {},
   "outputs": [],
   "source": [
    "path = '..\\\\data\\\\loyalty_profiles.csv'\n",
    "llm_model = 'gemini-1.5-pro-latest'\n",
    "high_risk_prob = 0.5"
   ]
  },
  {
   "cell_type": "code",
   "execution_count": 14,
   "id": "79d76428",
   "metadata": {},
   "outputs": [],
   "source": [
    "import pandas as pd\n",
    "import numpy as np\n",
    "import google.generativeai as genai\n",
    "import os\n",
    "from dotenv import load_dotenv\n",
    "from IPython.display import display, Markdown\n",
    "from email.message import EmailMessage"
   ]
  },
  {
   "cell_type": "code",
   "execution_count": 15,
   "id": "7a9a276d",
   "metadata": {},
   "outputs": [
    {
     "name": "stdout",
     "output_type": "stream",
     "text": [
      "Environment variables loaded successfully.\n",
      "Loyalty profiles loaded successfully.\n",
      "Found 82 high-risk customers to target.\n"
     ]
    }
   ],
   "source": [
    "load_dotenv()\n",
    "\n",
    "try:\n",
    "    SENDER_EMAIL = os.environ[\"EMAIL_SENDER\"]\n",
    "    SENDER_PASSWORD = os.environ[\"EMAIL_PASSWORD\"]\n",
    "    genai.configure(api_key=os.environ[\"GEMINI_API_KEY\"])\n",
    "    print(\"Environment variables loaded successfully.\")\n",
    "except KeyError as e:\n",
    "    print(f\"Error: Environment variable {e} not found.\")\n",
    "    print(\"Please ensure you have a .env file with EMAIL_SENDER, EMAIL_PASSWORD, and GEMINI_API_KEY.\")\n",
    "    exit()\n",
    "\n",
    "\n",
    "# --- Load the Customer Profiles ---\n",
    "try:\n",
    "    profiles_df = pd.read_csv(path)\n",
    "    print(\"Loyalty profiles loaded successfully.\")\n",
    "    # Filter for only the high-risk customers we want to target\n",
    "    high_risk_customers = profiles_df[profiles_df['churn_probability'] > high_risk_prob].copy()\n",
    "    print(f\"Found {len(high_risk_customers)} high-risk customers to target.\")\n",
    "except FileNotFoundError:\n",
    "    print(\"Error: loyalty_profiles.csv not found. Please ensure the file is in the correct directory.\")\n",
    "    high_risk_customers = pd.DataFrame() # Create an empty df to avoid errors later"
   ]
  },
  {
   "cell_type": "markdown",
   "id": "bdf3f59f",
   "metadata": {},
   "source": [
    "### 2. Prompt Engineering"
   ]
  },
  {
   "cell_type": "markdown",
   "id": "cd9960b7",
   "metadata": {},
   "source": [
    "This prompt is a detailed set of instructions for a large language model, designed to generate personalized, on-brand retention emails for customers at risk of leaving. It acts as a guide by defining a specific persona (a Vodafone marketing copywriter) and enforcing strict rules for tone, structure, and content. The goal is to ensure the final emails are proactive, positive, and tailored to each customer's unique profile, all while avoiding negative or alarming language."
   ]
  },
  {
   "cell_type": "code",
   "execution_count": 16,
   "id": "4e800312",
   "metadata": {},
   "outputs": [],
   "source": [
    "master_prompt = \"\"\"\n",
    "You are an expert marketing copywriter for Vodafone, a top-tier telecommunications company.\n",
    "Your task is to write a personalized, persuasive, and friendly email to a valued customer who our data suggests might be at risk of leaving. The goal is to proactively address their potential concerns and retain them with a relevant offer, making them feel appreciated and understood.\n",
    "\n",
    "### STRICT GUIDELINES TO FOLLOW ###\n",
    "\n",
    "**1. Tone Attributes:**\n",
    "   - **Friendly and Approachable:** Use warm, conversational language. Avoid technical jargon.\n",
    "   - **Clear and Concise:** Messages must be straightforward and easy to digest. Use short sentences.\n",
    "   - **Positive and Reassuring:** Highlight benefits and positive outcomes. Address concerns empathetically.\n",
    "   - **Professional and Trustworthy:** Maintain a respectful tone. Ensure information is reliable.\n",
    "\n",
    "**2. Email Structure:**\n",
    "   - **1. Subject Line:** Must be friendly, enticing, and personalized. (e.g., \"Exclusive Benefits Await You, {customer_name}!\")\n",
    "   - **2. Greeting:** Must be \"Hi {customer_name},\"\n",
    "   - **3. Introduction:** Briefly and warmly explain the purpose of the email.\n",
    "   - **4. Body:** Highlight the special, relevant offer. Use bullet points for key information.\n",
    "   - **5. Call to Action (CTA):** Must be clear and compelling. (e.g., \"Click here to explore your exclusive benefits.\")\n",
    "   - **6. Closing:** Must be warm and appreciative.\n",
    "   - **7. Signature:** Must be \"Best regards,\\nThe Vodafone Customer Care Team\"\n",
    "\n",
    "**3. Constraints:**\n",
    "   - **DO NOT** mention the words \"churn,\" \"risk,\" \"leaving,\" \"canceling,\" or \"unhappy.\" The tone must be entirely positive and proactive.\n",
    "   - **DO NOT** invent specific prices or discount percentages unless they are provided in the {suggested_offer}.\n",
    "   - **DO NOT** make up features or services that don't exist.\n",
    "\n",
    "### CUSTOMER DATA & TASK ###\n",
    "\n",
    "You will write an email for the following customer:\n",
    "\n",
    "- **Customer Name:** {customer_name}\n",
    "- **Customer Since:** {tenure_months} months\n",
    "- **Loyalty Profile:** {loyalty_profile}\n",
    "- **Primary Churn Driver (Internal Use Only, do not mention directly):** {primary_churn_driver}\n",
    "- **Suggested Offer to Weave into the Email:** {suggested_offer}\n",
    "- **Link to Insert:** [Explore Your Benefits](https://www.vodafone.com/)\n",
    "\n",
    "Now, please write the email based on all the rules and data provided.\n",
    "\"\"\""
   ]
  },
  {
   "cell_type": "markdown",
   "id": "debefae3",
   "metadata": {},
   "source": [
    "### 3. Email Generation "
   ]
  },
  {
   "cell_type": "markdown",
   "id": "49b84812",
   "metadata": {},
   "source": [
    "This section automates the creation of personalized retention emails using the LLM.\n",
    "\n",
    "First, the **get_prompt_inputs** function acts as a translator, taking a customer's data and turning it into a human-readable profile. Crucially, it uses an if/elif logic to select a specific, targeted offer for each customer segment.\n",
    "\n",
    "Then, the **generate_retention_email** function uses these personalized inputs to build a detailed prompt for the LLM. It sends the prompt to the model, which generates a complete, tailored email."
   ]
  },
  {
   "cell_type": "code",
   "execution_count": 17,
   "id": "ad4a4382",
   "metadata": {},
   "outputs": [],
   "source": [
    "def get_prompt_inputs(customer_row):\n",
    "    \"\"\"Translates a customer's data profile into specific inputs for the LLM prompt.\"\"\"\n",
    "    profile = customer_row['loyalty_profile']\n",
    "    tenure = customer_row['tenure']\n",
    "    \n",
    "    suggested_offer = \"\"\n",
    "    # This is the logic layer connecting data insights to creative content\n",
    "    if profile == \"Freedom Seeker\":\n",
    "        suggested_offer = \"A special loyalty discount on their monthly bill if they switch to a 12-month plan, giving them both savings and price stability.\"\n",
    "    elif profile == \"At-Risk VIP\":\n",
    "        suggested_offer = \"A complimentary plan review with one of our experts to ensure they're on the best-value tier, plus a free month of our Premium Tech Support service as a thank you.\"\n",
    "    elif profile == \"New & Uncertain\":\n",
    "        suggested_offer = \"A welcome gift of a free 3-month trial of our Premium Online Security package to help them get the most out of their new services and stay protected.\"\n",
    "    else: # Fallback for \"General Churn Risk\"\n",
    "        suggested_offer = \"A special 'thank you' offer, giving them a complimentary speed boost on their internet for the next three months.\"\n",
    "        \n",
    "    return {\n",
    "        \"customer_name\": np.random.choice([\"Alex\", \"Jamie\", \"Katie\",\"Ashelyn\", \"Vachan\",\"Ben\"]), # Randomly select a name for Demo\n",
    "        \"tenure_months\": tenure,\n",
    "        \"loyalty_profile\": profile,\n",
    "        \"primary_churn_driver\": customer_row['primary_driver'],\n",
    "        \"suggested_offer\": suggested_offer\n",
    "    }\n",
    "\n",
    "def generate_retention_email(customer_data):\n",
    "    \"\"\"Generates a personalized retention email for a given customer.\"\"\"\n",
    "    try:\n",
    "        model = genai.GenerativeModel(llm_model)\n",
    "        prompt_inputs = get_prompt_inputs(customer_data)\n",
    "        final_prompt = master_prompt.format(**prompt_inputs)        \n",
    "        response = model.generate_content(final_prompt)\n",
    "        return response.text\n",
    "    except Exception as e:\n",
    "        return f\"An error occurred while generating the email: {e}\"\n"
   ]
  },
  {
   "cell_type": "markdown",
   "id": "b4b2ae14",
   "metadata": {},
   "source": [
    "### Example"
   ]
  },
  {
   "cell_type": "code",
   "execution_count": 18,
   "id": "65f3abf4",
   "metadata": {},
   "outputs": [
    {
     "name": "stdout",
     "output_type": "stream",
     "text": [
      "\n",
      "================================================================================\n",
      "GENERATING EMAIL FOR PROFILE: 'New & Uncertain' (Churn Prob: 0.57)\n",
      "================================================================================\n"
     ]
    },
    {
     "data": {
      "text/markdown": [
       "Subject: Exclusive Benefits Await You, Ashelyn!\n",
       "\n",
       "Hi Ashelyn,\n",
       "\n",
       "We're so glad you joined the Vodafone family 8 months ago! We're always looking for ways to enhance your experience and wanted to share something special with you.\n",
       "\n",
       "As a valued Vodafone customer, we'd like to offer you a welcome gift to show our appreciation. We understand how important online security is, especially as you continue to explore all that Vodafone has to offer.\n",
       "\n",
       "That’s why we want to give you a complimentary 3-month trial of our Premium Online Security package.  This added layer of protection will help you get the most out of your services with added peace of mind.\n",
       "\n",
       "Here's what you'll enjoy:\n",
       "\n",
       "* **Enhanced online protection:**  Stay safe from viruses, malware, and phishing attempts.\n",
       "* **Secure browsing:** Enjoy a safer online experience, especially on public Wi-Fi.\n",
       "* **Identity protection features:** Safeguard your personal information from online threats.\n",
       "\n",
       "\n",
       "Click here to explore your exclusive benefits: [Explore Your Benefits](https://www.vodafone.com/)\n",
       "\n",
       "\n",
       "We appreciate your trust in Vodafone and look forward to continuing to serve you.\n",
       "\n",
       "\n",
       "Best regards,\n",
       "\n",
       "The Vodafone Customer Care Team\n"
      ],
      "text/plain": [
       "<IPython.core.display.Markdown object>"
      ]
     },
     "metadata": {},
     "output_type": "display_data"
    }
   ],
   "source": [
    "number_of_examples = 1\n",
    "# We'll pick a few unique high-risk profiles to demonstrate personalization.\n",
    "if not high_risk_customers.empty:\n",
    "    customers_to_showcase = high_risk_customers.drop_duplicates(subset=['loyalty_profile']).sample(n=number_of_examples)\n",
    "\n",
    "    for index, customer in customers_to_showcase.iterrows():\n",
    "        print(\"\\n\" + \"=\"*80)\n",
    "        print(f\"GENERATING EMAIL FOR PROFILE: '{customer['loyalty_profile']}' (Churn Prob: {customer['churn_probability']:.2f})\")\n",
    "        print(\"=\"*80)\n",
    "        \n",
    "        generated_email = generate_retention_email(customer)\n",
    "        display(Markdown(generated_email))\n",
    "\n",
    "else:\n",
    "    print(\"\\nNo high-risk customers to generate emails for.\")"
   ]
  }
 ],
 "metadata": {
  "kernelspec": {
   "display_name": "base",
   "language": "python",
   "name": "python3"
  },
  "language_info": {
   "codemirror_mode": {
    "name": "ipython",
    "version": 3
   },
   "file_extension": ".py",
   "mimetype": "text/x-python",
   "name": "python",
   "nbconvert_exporter": "python",
   "pygments_lexer": "ipython3",
   "version": "3.12.3"
  }
 },
 "nbformat": 4,
 "nbformat_minor": 5
}
